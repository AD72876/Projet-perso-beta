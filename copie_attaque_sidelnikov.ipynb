{
 "cells": [
  {
   "cell_type": "markdown",
   "metadata": {},
   "source": [
    "# Master 2 : Arithmetique, Codes et Cryptologie\n",
    "# TP d'attaque du cryptosysteme McEliece\n",
    "\n",
    " (Cryptographie basee sur les codes correcteurs)\n",
    "\n",
    "\n"
   ]
  },
  {
   "cell_type": "code",
   "execution_count": null,
   "metadata": {},
   "outputs": [],
   "source": [
    "q = 64\n",
    "n = 63\n",
    "r = 14\n",
    "delta = r*2+1\n",
    "k = n - delta + 1\n",
    "F = GF(q , 'alpha')\n",
    "Vk = VectorSpace(F,k)\n",
    "Vn= VectorSpace(F,n)\n",
    "alpha = F.gen()"
   ]
  },
  {
   "cell_type": "code",
   "execution_count": null,
   "metadata": {},
   "outputs": [],
   "source": [
    "GG = Matrix(F,k,n,[alpha^7,alpha^42,alpha^52,alpha^28,alpha^48,alpha^59,alpha^53,alpha^48,alpha^5,alpha^55,alpha^48,alpha^37,alpha^58,alpha^21,alpha^36,alpha^3,alpha^59,alpha^48,alpha^52,alpha^57,alpha^60,alpha^14,alpha^7,alpha^21,alpha^37,alpha^6,alpha^42,alpha^61,alpha^27,alpha^18,alpha^14,alpha^2,alpha^60,alpha^20,alpha^34,alpha^33,alpha^55,alpha^2,alpha^35,alpha^3,alpha^16,alpha^57,alpha^11,alpha^12,alpha^30,alpha^60,alpha^62,alpha^37,alpha^57,alpha^32,alpha^27,alpha^48,alpha^29,alpha^14,alpha^59,alpha^12,alpha^57,alpha^49,alpha^16,alpha^55,alpha^12,alpha^6,alpha^56,alpha^4,alpha^18,alpha^57,alpha^26,alpha^47,alpha^53,alpha^5,alpha^56,alpha^42,alpha^52,alpha^23,alpha^44,alpha^61,alpha^32,alpha^38,alpha^33,alpha^13,alpha^60,alpha^34,alpha^19,alpha^60,alpha^54,alpha^39,alpha^29,alpha^35,alpha^29,alpha^48,alpha^35,alpha^51,alpha^25,alpha^13,alpha^39,alpha^13,alpha^52,alpha^15,alpha^14,alpha^15,alpha^33,alpha^7,alpha^57,alpha^17,alpha^12,alpha^2,alpha^54,alpha^37,alpha^38,alpha^39,1,alpha^14,alpha^34,alpha^17,alpha^62,alpha^14,alpha^55,alpha^44,alpha^15,alpha^21,alpha^51,alpha^50,alpha^35,alpha^30,alpha^52,alpha^14,alpha^5,alpha^49,alpha^31,alpha^10,alpha^9,alpha^54,alpha^43,alpha^17,alpha^26,alpha^7,alpha^38,alpha^56,alpha^43,alpha^2,alpha^30,alpha^52,alpha^46,alpha^30,alpha^51,alpha^39,alpha^22,alpha^54,alpha^60,alpha^49,alpha^17,alpha^43,alpha^9,alpha^51,alpha^49,alpha^28,alpha^48,alpha^16,alpha^39,alpha,alpha^57,alpha^56,alpha^60,alpha^35,alpha^25,alpha^51,alpha^24,alpha^6,alpha^5,alpha^57,alpha^43,alpha^11,alpha^12,alpha^33,alpha^51,alpha^25,alpha^36,alpha^22,alpha^25,alpha^28,alpha^50,0,alpha^51,alpha^36,alpha^62,alpha^56,alpha^28,alpha^27,alpha^43,alpha^45,alpha^50,alpha^18,alpha^12,alpha^23,alpha^18,alpha^57,alpha^2,alpha^32,alpha^11,alpha^26,alpha^12,alpha^15,alpha^8,alpha^33,alpha^13,alpha^43,alpha^55,alpha^53,alpha^29,alpha^38,alpha^15,alpha^46,alpha^20,alpha^3,alpha^58,alpha^56,alpha^60,alpha^9,alpha^29,alpha^42,alpha^50,alpha^14,alpha^10,alpha^24,alpha^10,alpha^28,alpha^41,alpha^51,alpha^36,alpha^39,alpha^51,alpha^35,alpha^9,alpha^45,alpha^12,alpha^36,alpha^25,alpha^20,alpha^45,0,alpha^50,alpha^13,alpha^53,alpha^12,alpha^58,alpha^25,alpha^19,alpha^19,alpha^19,alpha^40,alpha^3,alpha^47,alpha^7,alpha^16,1,alpha^57,alpha^36,alpha^11,alpha^21,alpha^48,alpha^42,alpha^6,alpha^38,alpha^15,alpha^16,alpha^13,alpha^12,alpha^2,alpha^32,0,alpha^10,alpha^41,alpha^39,alpha^56,alpha^52,alpha^25,alpha^29,alpha^55,alpha^56,alpha^35,alpha^33,alpha^20,alpha^48,alpha^23,alpha^37,alpha^31,alpha^52,alpha^20,alpha^4,alpha^32,alpha^57,alpha^45,alpha^40,alpha^62,alpha^15,alpha^17,alpha^10,alpha^27,alpha^12,alpha^61,alpha^55,alpha^14,alpha^5,alpha^56,alpha^19,0,alpha^31,alpha^4,alpha^53,alpha^52,alpha^18,alpha^14,alpha^46,alpha^55,alpha^15,alpha,alpha^57,alpha^12,alpha^28,alpha^58,alpha^3,alpha^53,alpha^56,alpha^8,alpha^60,alpha^26,alpha^34,alpha^56,alpha^61,alpha^33,alpha^49,alpha^28,alpha^8,alpha^40,1,alpha^10,alpha^34,alpha^24,alpha^38,alpha^6,alpha^62,alpha^59,alpha^23,alpha^18,alpha^30,alpha^33,alpha^57,alpha^5,alpha^27,alpha^28,alpha^14,alpha^57,alpha^20,alpha^62,alpha^40,alpha^7,alpha^23,alpha^4,alpha^54,alpha^62,alpha^32,alpha^54,alpha^48,alpha^36,alpha^12,alpha^62,alpha^56,alpha^9,alpha^36,alpha^49,alpha^34,alpha^12,alpha^9,alpha^11,alpha^53,1,alpha^21,alpha^45,alpha^58,alpha^9,alpha^53,alpha^32,alpha,alpha^48,alpha^30,alpha^41,alpha^59,alpha^26,alpha^25,alpha^2,alpha^22,alpha^15,alpha^6,alpha^36,alpha^11,alpha^14,alpha^28,alpha^44,alpha^14,alpha^47,alpha^39,alpha^5,alpha^57,alpha^56,alpha^46,alpha^23,alpha^12,alpha^54,alpha^50,alpha^17,alpha^15,alpha^40,alpha^6,alpha^25,alpha^11,1,alpha^48,alpha^45,alpha^51,alpha^16,alpha^22,alpha^13,alpha^10,alpha^16,alpha^58,alpha^46,alpha^47,alpha^30,alpha^11,alpha^44,alpha^54,0,alpha^60,alpha^60,alpha^28,alpha^13,alpha^55,alpha^7,alpha^53,alpha^2,alpha^5,alpha^23,alpha^23,alpha^12,alpha^15,alpha^46,alpha^3,0,alpha^2,alpha^36,alpha^35,alpha^22,alpha^28,alpha^2,alpha^2,alpha^5,alpha^22,alpha^36,alpha^24,alpha^39,alpha^38,alpha^57,alpha^15,alpha^49,alpha^23,alpha^39,alpha^21,alpha,alpha^55,alpha^8,alpha^34,alpha^40,alpha^59,alpha^2,alpha^58,alpha^38,alpha^44,alpha^30,alpha^3,alpha^32,alpha^50,alpha^25,alpha^34,alpha^19,alpha^41,alpha^29,alpha^60,alpha^47,0,alpha^43,alpha^2,alpha^57,alpha^20,alpha^60,alpha^19,alpha^50,alpha^9,alpha^54,alpha^22,alpha^23,alpha^33,alpha^54,alpha^21,alpha^23,alpha^10,alpha^7,alpha^12,alpha^52,alpha^60,alpha^3,alpha^44,alpha^27,alpha^53,alpha^54,alpha^47,alpha^31,alpha^44,alpha^23,alpha^6,alpha^56,alpha^20,alpha^53,alpha^53,alpha^43,alpha,alpha^28,alpha^43,alpha^6,alpha^29,alpha^30,alpha^2,alpha^61,alpha^45,alpha^3,alpha^52,alpha^47,alpha^13,0,alpha^54,alpha^10,alpha^55,alpha^23,alpha^28,alpha^32,alpha^60,alpha^59,alpha^10,alpha^14,alpha^38,alpha^39,alpha^55,alpha^55,alpha^60,alpha^15,alpha^24,alpha^31,alpha^31,alpha^41,alpha^25,alpha^56,alpha^44,alpha^33,alpha^60,alpha^22,alpha^26,alpha^38,alpha^16,alpha^16,alpha^19,alpha^48,alpha^22,alpha^23,alpha^13,alpha^42,alpha^8,alpha^50,alpha^24,alpha^31,alpha^40,alpha^9,alpha^12,alpha^51,alpha^31,alpha^8,alpha^52,alpha^45,alpha^45,alpha^6,alpha^49,alpha^34,alpha^49,alpha^61,alpha^22,alpha^43,alpha^13,alpha^48,alpha^48,alpha^17,alpha^10,alpha^59,alpha^22,alpha^16,alpha^15,alpha^52,alpha^58,alpha^27,alpha^32,alpha^8,alpha^21,alpha^57,alpha^38,alpha^58,alpha^27,alpha^5,alpha^14,alpha^49,alpha^53,alpha^28,alpha^6,alpha^29,alpha^8,alpha^9,alpha^45,alpha^42,alpha^44,alpha^58,alpha^57,alpha^31,alpha^41,alpha^36,alpha,alpha^26,alpha^9,alpha^37,alpha^20,alpha^31,alpha^13,alpha^46,alpha^20,alpha^61,alpha^46,alpha^62,alpha,alpha^10,alpha^35,alpha^35,alpha^7,alpha^16,alpha^46,alpha^58,alpha^18,alpha^4,alpha^20,alpha^41,alpha^58,alpha^47,alpha^3,alpha^58,alpha^32,alpha^19,alpha^54,alpha^34,1,alpha^47,alpha^51,alpha^60,alpha^53,alpha^16,alpha^48,alpha^29,alpha^15,alpha^27,alpha^30,alpha^36,alpha^32,alpha^15,alpha^37,alpha^35,alpha^47,alpha^57,alpha^32,alpha^53,alpha^62,1,alpha^41,alpha^40,alpha^53,alpha^23,alpha^16,alpha^20,alpha^48,0,alpha^22,alpha^26,alpha^44,alpha^60,alpha^20,alpha^35,alpha^8,alpha^46,alpha^49,alpha^37,alpha^48,alpha^21,alpha^38,alpha^34,alpha^61,alpha^25,alpha^4,alpha^22,alpha^43,alpha^37,alpha^9,alpha^34,alpha^16,alpha^60,alpha^30,alpha^34,alpha^49,alpha^54,alpha^48,alpha,alpha^21,alpha^21,alpha^32,alpha^40,alpha^3,alpha^56,alpha^12,alpha^13,alpha^28,alpha^5,alpha^25,alpha^48,alpha^55,alpha,alpha^10,alpha^46,alpha^31,alpha^60,alpha^30,alpha^7,alpha^53,alpha^8,alpha^35,alpha^30,alpha^42,alpha^40,alpha^7,alpha^45,alpha^51,alpha^7,alpha^10,alpha^37,alpha^50,alpha^46,alpha^59,alpha^36,alpha^19,alpha^50,alpha^36,alpha^14,alpha^48,alpha^50,alpha^35,alpha^48,alpha^2,1,alpha^24,alpha^28,alpha^35,alpha^44,alpha^30,alpha^58,alpha^61,alpha^51,alpha^21,alpha,alpha^59,alpha^14,alpha^47,alpha^62,alpha^54,alpha^14,alpha^32,alpha^42,alpha^14,alpha^43,alpha^53,alpha^58,alpha^18,alpha^44,alpha^50,alpha^33,alpha^44,alpha^39,alpha^37,0,alpha^51,alpha^11,alpha^20,alpha^42,alpha^26,alpha^60,alpha^26,alpha^21,alpha^5,alpha^2,alpha^13,alpha^38,alpha^56,1,alpha^7,alpha^24,alpha^35,alpha^41,alpha,alpha^58,alpha^45,alpha^16,0,alpha^39,alpha^16,alpha^49,alpha^22,alpha^31,alpha^30,alpha^29,alpha^12,alpha^44,alpha^46,alpha^38,alpha^18,alpha^56,alpha^51,alpha^26,alpha^55,alpha^6,alpha^2,alpha^32,alpha^28,alpha^37,alpha^8,alpha^62,alpha^41,alpha^46,alpha^46,alpha^48,alpha^34,0,alpha^30,alpha^41,alpha^24,alpha^3,alpha^8,alpha^26,alpha^11,alpha^34,alpha^53,alpha^55,alpha^59,alpha^10,alpha^62,alpha^10,alpha^23,alpha^4,alpha^28,alpha^59,alpha^15,alpha^39,alpha^7,alpha^59,alpha^8,alpha^16,alpha^58,alpha^36,alpha^7,0,alpha^9,alpha,alpha^40,alpha^9,alpha^3,alpha^37,alpha^3,alpha^20,alpha^49,alpha^6,alpha^51,alpha^9,alpha^32,alpha^10,alpha^38,alpha^35,alpha^54,alpha^25,alpha^3,alpha^2,alpha^47,alpha^11,alpha^13,alpha^45,alpha^11,alpha^29,alpha^31,alpha^23,alpha^2,alpha^34,alpha^19,alpha^32,alpha^39,alpha^13,alpha^21,alpha^17,alpha^40,alpha^29,alpha^21,alpha^20,alpha^12,alpha^45,alpha^7,alpha^8,alpha,alpha^32,alpha^25,alpha^60,alpha^29,alpha^39,alpha^48,alpha^30,alpha^45,alpha^17,alpha^27,alpha^58,alpha^4,alpha^49,1,alpha^39,alpha^49,alpha^12,alpha^5,alpha,alpha^51,alpha^46,alpha^14,alpha^40,alpha^19,alpha^21,alpha^15,alpha^32,alpha^13,alpha^53,alpha^35,alpha^42,alpha^57,alpha^24,alpha^8,alpha^3,alpha^3,alpha^2,alpha^35,alpha^36,alpha^47,alpha^33,alpha^3,alpha^59,alpha^30,alpha^23,alpha^31,alpha^60,alpha^21,alpha^16,alpha^20,alpha^36,alpha^6,alpha^4,alpha^22,alpha^15,alpha^42,alpha^12,alpha^30,alpha^32,alpha^35,alpha^41,alpha^38,alpha^46,alpha^8,alpha^45,alpha^54,alpha^30,alpha^58,alpha^4,alpha^48,alpha^9,alpha^35,alpha^6,alpha^32,alpha^8,alpha^3,alpha^50,alpha^33,alpha^34,alpha^7,alpha^56,alpha^55,alpha^15,alpha^10,alpha^41,alpha^44,0,alpha^17,alpha^5,alpha^48,alpha^18,alpha^7,alpha^9,alpha^14,alpha^18,alpha^57,alpha^8,alpha^26,alpha^61,alpha^4,alpha^27,alpha^53,alpha^22,alpha^34,alpha^31,alpha^13,alpha^5,alpha^3,alpha^53,alpha^5,alpha^42,alpha^6,alpha^61,alpha^53,alpha^44,alpha^36,alpha^43,alpha^6,alpha^9,alpha^24,alpha^23,alpha^27,alpha^46,alpha^34,alpha^19,alpha^51,alpha^36,alpha^21,alpha^42,alpha^26,alpha^26,alpha^16,0,alpha^51,alpha^6,alpha^23,alpha^59,alpha^10,alpha^56,alpha^54,alpha^61,alpha^30,alpha^40,alpha^43,alpha^9,alpha^27,alpha^62,alpha^29,alpha^19,alpha^48,alpha^53,alpha^7,alpha,alpha^41,alpha^48,alpha^57,alpha^20,alpha^6,alpha^10,alpha^56,alpha^9,alpha^41,alpha^50,alpha^29,alpha^21,alpha^54,alpha^40,alpha^53,alpha^42,alpha^23,alpha^11,alpha^10,alpha^38,alpha^62,alpha^34,alpha^57,alpha^53,alpha^21,alpha^25,alpha^43,alpha^36,alpha^30,alpha^10,alpha^57,alpha^41,alpha^48,0,alpha^17,alpha^5,alpha^11,alpha^28,alpha^33,alpha^31,alpha^8,alpha^62,alpha^50,alpha^9,alpha^30,alpha^32,alpha^36,alpha^26,alpha^3,alpha^49,alpha^55,alpha^26,alpha^33,alpha^30,alpha^62,alpha,alpha^2,alpha^38,alpha^10,alpha^36,alpha^32,alpha^46,alpha^30,alpha^8,alpha^40,alpha^21,alpha^50,alpha^28,alpha^3,alpha^39,alpha^30,alpha^53,alpha^57,alpha^52,alpha^32,alpha^2,alpha^24,alpha^5,0,alpha^30,alpha^3,alpha^45,alpha^31,alpha^51,alpha^19,alpha^29,alpha^21,alpha^35,alpha^15,alpha^10,alpha^27,alpha^55,alpha^17,alpha^12,alpha^31,alpha^28,alpha^19,alpha^30,alpha^40,alpha^30,alpha^19,alpha^49,alpha^20,alpha^59,alpha^31,alpha^18,alpha^51,alpha^10,alpha^35,alpha^21,alpha^2,alpha^52,alpha^9,0,alpha^26,alpha^30,alpha^55,alpha^25,alpha^16,alpha,alpha^31,alpha^52,alpha^35,alpha^38,alpha^8,alpha^20,alpha^42,alpha^29,alpha^50,alpha^51,alpha^50,alpha^53,alpha^15,alpha^39,alpha^7,alpha^47,alpha^6,alpha^36,alpha^22,alpha^32,alpha^33,alpha,alpha^27,alpha^20,alpha^54,alpha^50,alpha^25,alpha^3,alpha^48,alpha^45,alpha^35,alpha^16,alpha^20,alpha^14,alpha^26,alpha^34,alpha^43,alpha^27,alpha^37,alpha^11,alpha^33,alpha^60,alpha^30,1,1,alpha^7,alpha^24,alpha^26,alpha^13,alpha^57,alpha^39,alpha^31,alpha^12,alpha^41,alpha^17,alpha^47,alpha^9,alpha^36,alpha^9,alpha^58,alpha^15,0,alpha^49,alpha^37,alpha^60,alpha^55,alpha^42,alpha^55,alpha^30,alpha^19,alpha^7,alpha^21,alpha^60,alpha^17,alpha^11,alpha^24,alpha^52,alpha^57,alpha^25,alpha^2,alpha^42,alpha^12,alpha^56,alpha^50,alpha^16,alpha^33,alpha^29,alpha^35,alpha^12,alpha^4,alpha^58,alpha^54,alpha^5,alpha^59,alpha^40,alpha^57,alpha^49,alpha^33,alpha^52,alpha^40,alpha^55,alpha^36,alpha^15,alpha^9,alpha^3,alpha^38,alpha^42,alpha^38,alpha^28,alpha^19,alpha^57,alpha^39,alpha^46,0,alpha^24,alpha^13,alpha^29,0,alpha^50,alpha^8,alpha^40,alpha^34,alpha^18,alpha^58,alpha^21,1,alpha^38,alpha^26,alpha^39,alpha^41,alpha^25,alpha^17,alpha^53,alpha^56,alpha^15,alpha^25,alpha^7,alpha^15,alpha^11,alpha^15,alpha^21,alpha^61,alpha^10,alpha^35,alpha,alpha^18,alpha^9,alpha^19,alpha^47,alpha^48,alpha^44,alpha^32,alpha^51,alpha^50,alpha^50,alpha^7,alpha^36,alpha^47,alpha^27,alpha,alpha^30,alpha^59,alpha^3,alpha^12,alpha^43,alpha^25,alpha^56,alpha^32,alpha^30,alpha^32,alpha^24,alpha^26,alpha^17,alpha^6,alpha^35,alpha^19,alpha^5,alpha^38,alpha^31,alpha^39,alpha^20,alpha^57,alpha^33,alpha^16,alpha^17,alpha^36,alpha^14,alpha^41,alpha^29,alpha^21,alpha^8,alpha^29,alpha^39,alpha^51,alpha^25,alpha^40,alpha^51,alpha^25,alpha^34,alpha^21,alpha^31,alpha^9,alpha^12,alpha^41,alpha^52,alpha^58,alpha^54,alpha^14,alpha^45,alpha^46,alpha^52,alpha^22,alpha^27,alpha^25,alpha^39,alpha^30,alpha^58,alpha^48,alpha^27,alpha^37,alpha^29,alpha^49,alpha^56,alpha^4,alpha^44,alpha^32,alpha^38,alpha^4,alpha^59,alpha^9,alpha^18,alpha^18,alpha^33,alpha^37,alpha^46,alpha^58,alpha^36,alpha^25,alpha^62,alpha^11,alpha^15,1,alpha^25,alpha^53,alpha,alpha^36,alpha^10,alpha^26,alpha^23,alpha^26,alpha^43,alpha^30,alpha^44,alpha^30,alpha^40,alpha^7,alpha^46,alpha^30,alpha^42,alpha^46,alpha^53,alpha^2,alpha^9,alpha^20,1,alpha^9,alpha^5,alpha^13,alpha^8,alpha^60,alpha^3,alpha^26,alpha^56,alpha^11,alpha^53,alpha^57,1,alpha^19,alpha^39,alpha^25,alpha^37,alpha^25,alpha^62,alpha^52,alpha^12,alpha^21,alpha,0,alpha^9,alpha^40,alpha^47,alpha^22,alpha^52,alpha^40,alpha^42,alpha^48,alpha^18,alpha^2,alpha^25,alpha^18,alpha^48,alpha^60,alpha^44,alpha^31,alpha^58,0,alpha^20,alpha^18,1,alpha^60,0,alpha^35,alpha^16,alpha^40,alpha^59,alpha^28,alpha^51,alpha^43,alpha^60,alpha^4,alpha^42,alpha^28,alpha^18,alpha^3,alpha^33,alpha^54,alpha^3,alpha^56,alpha^26,alpha^4,alpha^29,alpha^29,alpha^53,alpha^51,alpha^54,alpha^28,alpha^51,alpha^49,alpha^39,alpha^36,alpha^56,alpha^37,alpha^47,alpha^5,alpha^21,alpha^19,alpha^5,alpha^46,1,alpha^11,alpha^56,alpha^55,alpha^45,alpha^45,alpha^54,alpha^2,alpha^25,alpha^23,alpha^44,alpha^28,alpha^61,alpha^20,alpha^62,alpha^5,alpha^26,alpha^59,alpha^34,alpha^54,alpha^14,alpha^47,alpha^37,alpha^16,alpha^20,alpha^33,alpha^4,alpha,alpha^21,alpha^26,alpha^40,alpha^53,alpha^58,alpha^49,alpha^14,alpha^20,alpha^57,alpha^30,alpha^47,alpha^15,alpha^39,alpha^19,alpha^6,alpha,alpha^60,alpha^46,alpha^22,alpha^58,alpha^61,alpha^54,alpha^4,alpha^36,alpha^4,alpha^54,alpha^56,alpha^46,alpha^33,alpha^16,alpha^35,alpha^28,alpha^12,alpha^27,alpha^11,alpha^47,alpha^52,alpha^24,alpha^55,alpha^7,alpha^11,alpha^54,alpha^21,alpha^60,alpha^58,alpha^22,alpha^41,alpha^9,alpha^30,alpha^42,alpha,alpha^11,alpha^4,alpha^59,alpha^49,alpha^40,alpha^46,alpha^14,alpha^37,alpha^9,alpha^14,alpha^31,alpha^50,alpha^27,alpha^15,alpha^21,alpha^15,alpha^13,alpha^56,alpha^57,alpha^47,alpha^9,alpha^56,alpha^32,alpha^13,alpha^57,alpha^7,alpha^6,1,alpha^22,alpha^20,alpha^14,alpha^39,1,alpha^6,alpha^22,alpha^7,alpha^25,alpha^3,alpha^53,alpha^14,alpha^60,alpha^20,alpha^6,alpha^37,alpha^28,alpha^12,alpha^37,alpha^16,alpha^38,alpha^25,alpha^31,alpha^35,alpha^8,alpha^55,alpha^39,alpha^27,alpha^21,alpha^62,alpha^28,alpha^14,alpha^57,alpha^26,alpha^54,alpha^4,alpha^43,alpha^24,alpha,alpha^56,alpha^12,alpha^44,alpha^16,alpha^9,alpha^13,alpha^44,alpha^17,alpha^14,alpha^10,alpha^17,alpha^41,0,alpha^57,alpha^10,alpha^50,alpha^22,alpha^14,alpha^23,alpha^27,alpha^47,alpha^54,alpha^32,alpha^8,alpha^20,alpha^39,alpha^56,alpha^5,alpha^17,alpha^32,alpha^29,alpha^38,alpha^28,alpha^40,alpha^56,alpha^59,1,alpha^13,alpha^7,alpha^37,alpha^17,alpha^20,alpha^53,alpha^42,alpha^16,alpha^10,alpha^55,alpha^29,alpha^4,alpha^30,alpha^21,alpha^39,alpha^24,alpha^22,alpha^59,alpha^3,alpha^30,alpha^22,alpha^56,alpha^53,alpha^24,alpha^13,alpha,alpha^48,alpha^20,alpha^19,alpha^19,alpha^22,alpha^4,alpha^21,0,alpha^46,alpha^46,alpha^28,alpha^10,alpha^60,alpha^61,alpha^60,alpha,alpha^23,alpha^16,alpha^45,alpha^3,alpha^13,alpha^54,alpha^28,alpha^52,alpha^6,alpha^26,alpha^29,alpha^33,0,alpha^48,alpha^27,alpha^26,alpha^47,alpha^38,alpha^55,alpha^57,alpha^54,alpha^23,alpha^25,alpha^17,alpha^22,alpha^16,alpha^18,alpha^42,alpha^33,alpha^35,alpha^34,alpha^22,alpha^30,alpha^33,alpha,alpha^2,1,alpha^22,alpha^30,alpha^24,alpha^38,alpha^45,alpha^4,alpha^37,alpha^62,0,alpha^43,alpha^50,alpha^51,alpha^3,alpha^8,alpha^61,alpha^28,alpha^46,alpha^31,alpha^40,alpha^28,alpha^42,alpha^27,alpha^45,alpha^12,alpha^47,alpha^50,alpha^28,alpha^49,alpha^45,alpha^6,alpha^59,alpha^38,alpha^58,alpha^43,alpha^34,alpha^19,alpha^23,alpha^36,alpha^33,alpha^3,alpha^42,alpha^44,alpha^36,alpha^12,alpha^46,alpha^15,alpha^11,alpha^38,alpha^18,alpha^26,alpha^47,alpha^25,alpha^53,alpha^17,alpha^52,alpha^57,alpha^32,alpha^7,alpha^37,alpha^12,alpha^60,alpha^42,alpha^8,alpha^20,1,alpha^58,alpha^26,alpha^18,alpha^7,alpha^21,alpha^24,alpha^30,alpha^22,alpha^62,alpha^38,alpha^29,alpha^35,alpha^8,alpha^6,alpha^8,alpha^50,alpha^20,alpha^27,alpha^29,alpha^19,alpha^56,alpha^29,alpha^50,alpha^41,alpha^56,alpha^14,alpha^3,alpha^20,alpha^14,alpha^10,alpha^55,alpha^10,alpha^55,alpha^61,alpha^34,alpha^15,alpha^18,alpha^53,alpha^35,alpha^2,alpha^29,alpha^16,alpha^6,alpha^33,alpha^59,alpha^52,alpha^21,alpha^58,alpha^40,alpha^13,alpha^9,alpha^12,alpha^12,alpha^46,alpha^12,alpha^32,alpha^46,alpha^42,alpha^20,alpha^62,alpha^58,alpha^46,alpha^27,alpha^58,alpha^38,alpha^24,alpha^51,alpha^24,alpha^61,alpha^43,alpha^21,alpha^5,alpha^32,alpha^53,alpha^20,alpha^22,alpha^6,alpha^3,alpha^46,alpha^51,alpha^19,alpha^9,alpha^57,alpha^53,alpha^54,alpha^17,alpha^2,alpha^53,alpha^42,alpha^48,alpha^60,alpha^10,alpha^59,alpha^6,alpha^14,alpha^16,alpha^15,alpha^49,alpha^20,alpha^3,alpha^56,alpha^7,alpha^59,alpha^51,alpha^35,alpha^25,alpha^50,alpha^44,alpha^54,alpha^15,alpha^39,alpha^56,alpha^42,alpha^11,alpha^59,alpha^13,alpha^2,alpha^3,alpha^41,alpha^42,alpha^46,alpha^22,alpha^2,alpha^61,alpha^2,alpha^23,alpha^22,alpha^31,alpha^5,alpha^13,alpha^16,alpha^33,0,alpha^17,alpha^35,alpha^27,alpha^4,alpha^2,alpha^39,alpha^50,alpha^58,alpha^38,alpha^43,alpha^4,alpha^10,alpha^60,alpha^39,alpha^48,alpha^38,alpha^58,alpha^10,alpha^22,alpha^60,alpha^17,alpha^11,alpha^42,alpha^40,alpha^44,alpha^38,alpha^25,alpha^14,alpha^20,alpha^27,alpha^35,alpha^51,alpha^26,alpha^58,alpha^47,alpha^26,alpha^59,alpha^23,alpha^10,alpha^47,alpha^37,alpha^42,alpha^22,alpha^20,alpha^13,alpha^48,alpha^53,0,alpha^10,alpha^55,alpha^43,alpha^46,alpha^31,alpha^46,alpha^31,alpha^34,alpha^13,alpha^43,alpha^20,alpha^54,alpha^17,0,alpha^39,alpha^5,alpha^48,alpha^42,alpha^51,alpha^9,alpha^29,alpha^48,alpha^31,alpha^51,alpha^2,alpha^48,alpha,alpha^43,alpha^51,alpha^44,alpha^36,alpha^32,alpha^43,alpha^51,alpha^38,alpha^9,alpha^37,alpha^34,alpha^16,alpha^52,alpha^29,alpha^55,1,alpha^44,alpha,alpha^19,alpha^30,alpha^23,alpha^25,alpha^5,alpha^17,alpha^34,alpha^6,alpha^31,alpha^29,alpha^32,alpha^32,alpha^55,alpha^28,alpha^16,alpha^47,alpha^21,alpha^8,alpha^52,alpha^45,alpha^50,alpha^34,alpha^41,alpha^27,alpha^28,alpha^21,alpha^56,alpha^12,alpha^18,alpha^2,alpha^26,alpha^61,alpha^43,alpha^35,alpha^13,alpha^59,alpha^43,alpha^14,alpha^47,alpha^44,alpha^47,alpha^43,alpha^43,alpha^4,alpha^39,alpha^17,alpha^46,alpha^20,alpha^40,alpha^25,alpha^27,alpha^33,alpha^60,alpha^19,alpha^29,alpha^48,alpha^49,alpha^47,alpha^31,alpha^3,alpha^61,alpha^3,alpha^36,alpha^42,alpha^33,alpha^6,alpha^53,alpha^21,alpha^58,1,alpha^13,alpha^46,alpha^54,alpha^34,alpha^28,alpha^35,alpha^2,alpha^35,alpha^3,alpha^18,alpha^33,alpha^38,alpha^19,alpha^18,alpha^29,alpha^44,alpha^26,alpha^27,alpha^3,alpha^2,alpha^28,alpha^7,alpha^11,1,alpha^58,alpha^38,alpha^26,alpha^14,alpha^31,alpha^54,alpha^14,alpha^7,alpha^16,alpha^4,alpha^55,0,alpha^44,alpha^15])\n"
   ]
  },
  {
   "cell_type": "code",
   "execution_count": null,
   "metadata": {},
   "outputs": [
    {
     "data": {
      "text/plain": [
       "(35, 28)"
      ]
     },
     "metadata": {},
     "output_type": "display_data"
    }
   ],
   "source": [
    "A = GG[:, :k]          \n",
    "B = GG[:, k:]\n",
    "B.nrows() , B.ncols()"
   ]
  },
  {
   "cell_type": "code",
   "execution_count": null,
   "metadata": {},
   "outputs": [],
   "source": [
    "A_1 = A.inverse()\n",
    "B = A_1*GG"
   ]
  },
  {
   "cell_type": "markdown",
   "metadata": {},
   "source": [
    "En bas on va prendre la sous matrice qui nous interesse."
   ]
  },
  {
   "cell_type": "code",
   "execution_count": null,
   "metadata": {},
   "outputs": [],
   "source": [
    "b=B.submatrix(0,k,k,n-k)"
   ]
  },
  {
   "cell_type": "markdown",
   "metadata": {},
   "source": [
    "On prend toutes les racines des polynomes de la ligne b_i_j"
   ]
  },
  {
   "cell_type": "code",
   "execution_count": null,
   "metadata": {},
   "outputs": [],
   "source": [
    "R = PolynomialRing(F, \"X\")\n",
    "X = R.gen()\n",
    "racine_liste=[]\n",
    "for i in range(0,k) :\n",
    "    ligne_polynome=0\n",
    "    e=0\n",
    "    for j in range(0,n-k):\n",
    "        e=e+1\n",
    "        ligne_polynome=ligne_polynome+b[i][j]*X^(e-1)\n",
    "        roots=ligne_polynome.roots()\n",
    "\n",
    "    for root, multiplicity in roots :\n",
    "        if len(roots)== 0 :\n",
    "            racine_liste.append(root)\n",
    "\n",
    "print(len(racine_liste))"
   ]
  },
  {
   "cell_type": "markdown",
   "metadata": {},
   "source": [
    "Problème en bas on tombe sur aucun coefficient pour c_b_1 et c_b_2. Je pense que c'est parce qu'on a trouver seulement 24 racines en haut."
   ]
  },
  {
   "cell_type": "code",
   "execution_count": null,
   "metadata": {},
   "outputs": [],
   "source": [
    "\"\"\"facteur=1\n",
    "for i in range(1,len(racine_liste)):\n",
    "    facteur=facteur*(X-racine_liste[i])\n",
    "\n",
    "for i in F :\n",
    "\n",
    "    if i*facteur==racine_liste[0] :\n",
    "        c_b_1=i\n",
    "        break\n",
    "print facteur\n",
    "print c_b_1\n",
    "\"\"\"\n",
    "facteur=racine_liste[0]\n",
    "for i in range(2,len(racine_liste)):\n",
    "    facteur=facteur*(X-racine_liste[i])\n",
    "\n",
    "for i in F:\n",
    "    if i*facteur==racine_liste[1] :\n",
    "        c_b_2=i\n",
    "        break\n",
    "print c_b_2\n",
    "    "
   ]
  },
  {
   "cell_type": "code",
   "execution_count": null,
   "metadata": {},
   "outputs": [],
   "source": [
    "def DoublonListe(Liste):\n",
    "    for i in range(0,len(Liste)) :\n",
    "        for j in range(i+1,len(Liste)):\n",
    "            if Liste[i]==Liste[j] :\n",
    "                return True\n",
    "    return false\n",
    "        "
   ]
  },
  {
   "cell_type": "markdown",
   "metadata": {},
   "source": [
    "Le code ci-dessous donne les coefficient mu pour trouver les coefficient de k+1 à n. On en a besoin dans la formule\n"
   ]
  },
  {
   "cell_type": "code",
   "execution_count": null,
   "metadata": {},
   "outputs": [],
   "source": [
    "Liste_mu_2_j=[]\n",
    "\n",
    "for j in range(0,n-k) :\n",
    "    mu= b[1,j]/b[2,j]\n",
    "    Liste_mu_2_j.append(mu)\n",
    "    \n",
    "print(Liste_mu_2_j)\n",
    "print(len(Liste_mu_2_j))"
   ]
  },
  {
   "cell_type": "markdown",
   "metadata": {},
   "source": [
    "Code en dessous pour faire une liste des permutations possible afin de trouver la bonne solution\n"
   ]
  },
  {
   "cell_type": "code",
   "execution_count": null,
   "metadata": {},
   "outputs": [],
   "source": [
    "Liste_alpha1=[]\n",
    "Liste_mu=[]\n",
    "Liste_permutation=[]\n",
    "\n",
    "import random as py_random\n",
    "\n",
    "F_star=[]\n",
    "for i in range(0,63) :\n",
    "    F_star.append(alpha^i)\n",
    "\n",
    "\"\"\n",
    "def limited_permutations(liste, num_permutations):\n",
    "    resultat=[]\n",
    "    for i in range(num_permutations):\n",
    "        perm=py_random.sample(liste,len(liste))\n",
    "        resultat.append(perm)\n",
    "        \n",
    "    return resultat\n",
    "\n",
    "        \n",
    "        \n",
    "    \n"
   ]
  },
  {
   "cell_type": "markdown",
   "metadata": {},
   "source": [
    "On sait que lambda2\\-mu2,j ne doit pas être égale à 0 donc calculons une liste de possibliltés réduite plutôt que de prendre dans F\n"
   ]
  },
  {
   "cell_type": "code",
   "execution_count": null,
   "metadata": {},
   "outputs": [],
   "source": [
    "def liste_lambda_2(M):\n",
    "    Liste = list(F)\n",
    "    print(Liste)\n",
    "    L=[]\n",
    "    #l = len(Liste)\n",
    "    #for y in mu_i_j(H):\n",
    "    for x in Liste:\n",
    "        for y in  Liste_mu_2_j:\n",
    "            if (x-y)== 0:\n",
    "                #show(\"\\n le mauvais y : lambda=\",y)\n",
    "                Liste.remove(x)\n",
    "    #show(\"les bons lamdbda sont dans \", Liste)\n",
    "    return Liste\n",
    "        \n",
    "liste_lambda2=liste_lambda_2(b)\n",
    "liste_lambda2.remove(0)\n",
    "print (len(liste_lambda2))"
   ]
  },
  {
   "cell_type": "markdown",
   "metadata": {},
   "source": [
    "Ici ce qu'on essaye de faire c'est de trouver un lambda2 avec une liste permutée de $[1,..,\\alpha^{62}]$ pour que tout les coefficien mu_2_j avec j dans $[k+1...n]$ qu'on a trouvé au dessus soit égaux avec le calcul donné dans la leçon. "
   ]
  },
  {
   "cell_type": "code",
   "execution_count": null,
   "metadata": {},
   "outputs": [],
   "source": [
    "lambda2=0\n",
    "Liste_sigma=limited_permutations(F_star,10*(n-k)**2)\n",
    "\n",
    "for i in liste_lambda2 :\n",
    "    compteur=0\n",
    "    \n",
    "    for j in range(0,len(Liste_sigma)) :\n",
    "        Liste_permutation=Liste_sigma[j]\n",
    "        for e in range(0,len(Liste_mu_2_j)):\n",
    "            calcul=i*(Liste_permutation[e]-1)/Liste_permutation[e]\n",
    "            if calcul==Liste_mu_2_j[e] :\n",
    "                compteur=compteur+1\n",
    "                break\n",
    "\n",
    "    if compteur==len(Liste_mu_2_j):\n",
    "        liste_lambda2.append(i)\n",
    "        Alpha=Liste_permutation[0:n-k]\n",
    "        break\n",
    "\n",
    "print (\"Lambda2=\",len(liste_lambda2))\n",
    "print(\"\\n\")\n",
    "print(Alpha)\n",
    "\n",
    "\n",
    "\n",
    "\n"
   ]
  },
  {
   "cell_type": "code",
   "execution_count": null,
   "metadata": {},
   "outputs": [],
   "source": [
    "import random\n",
    "def alpha_prime_j(M):\n",
    "        L=[]\n",
    "        lambda_2=liste_lambda_2(M)[15]\n",
    "        for i in range(len(Liste_mu_2_j)):#if (y-lambda_2)!=0:\n",
    "                alpha_prime=lambda_2/(lambda_2-Liste_mu_2_j[i])\n",
    "                L.append(alpha_prime)\n",
    "        return L\n",
    "Alpha=alpha_prime_j(b)"
   ]
  },
  {
   "cell_type": "code",
   "execution_count": null,
   "metadata": {},
   "outputs": [],
   "source": [
    "Liste_mu_i_kplus1 = []\n",
    "Liste_mu_i_kplus2=[]\n",
    "\n",
    "for j in range(0,35):\n",
    "    b_1_j = b[1, 1]\n",
    "    b_2_j = b[j, 1]\n",
    "    if b_2_j != 0:\n",
    "        mu = b_1_j / b_2_j\n",
    "        Liste_mu_i_kplus1.append(mu)\n",
    "        \n",
    "for j in range(35):\n",
    "    b_1_j = b[1, 2]\n",
    "    b_2_j = b[j, 2]\n",
    "    if b_2_j != 0:\n",
    "        mu = b_1_j / b_2_j\n",
    "        Liste_mu_i_kplus2.append(mu)\n",
    "\n",
    "print(len(Liste_mu_i_kplus1))\n",
    "print(len(Liste_mu_i_kplus2))"
   ]
  },
  {
   "cell_type": "code",
   "execution_count": null,
   "metadata": {},
   "outputs": [],
   "source": [
    "Alpha1 = []\n",
    "liste_b = []\n",
    "for i in range(2,35):\n",
    "    Lambda = lambda2\n",
    "    value = (Alpha[1]*Alpha[2])*(Liste_mu_i_kplus1[i]-Liste_mu_i_kplus2[i])/(Liste_mu_i_kplus1[i]*Alpha[1]-Liste_mu_i_kplus2[i]*Alpha[2])\n",
    "    \n",
    "    \n",
    "    Alpha1.append(value)\n",
    "\n",
    "print(Alpha1)"
   ]
  },
  {
   "cell_type": "markdown",
   "metadata": {},
   "source": [
    "Désormais on a besoin des autres coefficient mu pour avoir la formule des alpha de $[3..k]$"
   ]
  },
  {
   "cell_type": "markdown",
   "metadata": {},
   "source": [
    "L'algorithme ci-dessous fonctionne mais il lui arrive de renvoyer une erreur."
   ]
  },
  {
   "cell_type": "code",
   "execution_count": null,
   "metadata": {},
   "outputs": [],
   "source": [
    "\n",
    "#Dans le cours on voit que alpha[1] est 1 donc :\n",
    "\n",
    "\n",
    "Liste_alpha=Alpha1+Alpha\n",
    "\n",
    "Liste_alpha.insert(0,1)\n",
    "\n",
    "#Trouvons le dernier élément manquant :\n",
    "\n",
    "for j in F_star :\n",
    "    compteur=0\n",
    "    for i in range(0,len(Liste_alpha)):\n",
    "        if Liste_alpha[i]!=j :\n",
    "            compteur=compteur+1\n",
    "    if compteur==len(Liste_alpha) :\n",
    "        Liste_alpha.insert(0,j) \n",
    "        break\n",
    "        \n",
    "print(len(Liste_alpha))\n",
    "DoublonListe(Liste_alpha)"
   ]
  },
  {
   "cell_type": "markdown",
   "metadata": {},
   "source": [
    "A partir d'ici on suppose qu'on a trouver le bon alpha' donc on va passer à la partie décodage du code de Reed solomon qui utilise l'algorithme de Berlekamp-Welch"
   ]
  },
  {
   "cell_type": "code",
   "execution_count": null,
   "metadata": {},
   "outputs": [],
   "source": [
    "import math\n",
    "\n",
    "\n",
    "#y mot bruité. Construit_matrice sert a construire la matrice à qui on va chercher son noyeau droit après dans berlekamp_welch\n",
    "\n",
    "def construit_matrice(y) :\n",
    "    t=int(math.floor((n-k)/2))\n",
    "    Ligne=[[] for i in range(0,63)]\n",
    "    for i in range(0,n):\n",
    "        for j in range(0,t):\n",
    "            Ligne[i].append(y[i]*(pow(Liste_alpha[i],j,64)))\n",
    "        for j in range(0,k+t-1):\n",
    "            Ligne[i].append(-(pow(Liste_alpha[i],j,64))) #\n",
    "            \n",
    "        Ligne[i]=vector(F, Ligne[i])\n",
    "        \n",
    "    #matrice = np.array(Ligne)\n",
    "    M= Matrix(Ligne)\n",
    "    return M\n",
    "\n",
    "MessageChiffre=[alpha^47,1,alpha^53,alpha^44,alpha,alpha^28,alpha^25,alpha^44,alpha^26,alpha^18,alpha^10,alpha^38,alpha^31,alpha^60,alpha^22,alpha^46,alpha^32,alpha^34,alpha^28,alpha^8,alpha^38,alpha^35,alpha^38,alpha^58,alpha^24,alpha^56,alpha^23,alpha^32,alpha^29,alpha^45,alpha^48,alpha^4,alpha^38,alpha^50,alpha^33,alpha^52,alpha^4,alpha^61,alpha^7,alpha^56,alpha^26,alpha^18,alpha^37,alpha^7,alpha^60,alpha^12,alpha^32,alpha^40,alpha^15,alpha^10,alpha^9,alpha^32,alpha^9,alpha^53,alpha^52,alpha^14,alpha^5,0,alpha^23,alpha^35,alpha^58,alpha^17,alpha^8];\n",
    "M=construit_matrice(MessageChiffre)\n",
    "M"
   ]
  },
  {
   "cell_type": "code",
   "execution_count": null,
   "metadata": {},
   "outputs": [],
   "source": [
    "import math\n",
    "\n",
    "\n",
    "#y mot bruité. Construit_matrice sert a construire la matrice à qui on va chercher son noyeau droit après dans berlekamp_welch\n",
    "\n",
    "def construit_matrice(y) :\n",
    "    t=int(math.floor((n-k)/2))\n",
    "    Ligne=[[] for i in range(0,63)]\n",
    "    for i in range(0,n):\n",
    "        for j in range(0,t):\n",
    "            Ligne[i].append(y[i]*(pow(Liste_alpha[i],j,64)))\n",
    "        for j in range(0,k+t-1):\n",
    "            Ligne[i].append(-(pow(Liste_alpha[i],j,64))) #\n",
    "            \n",
    "        Ligne[i]=vector(F, Ligne[i])\n",
    "        \n",
    "    #matrice = np.array(Ligne)\n",
    "    M= Matrix(Ligne)\n",
    "    return M\n",
    "\n",
    "MessageChiffre=[alpha^47,1,alpha^53,alpha^44,alpha,alpha^28,alpha^25,alpha^44,alpha^26,alpha^18,alpha^10,alpha^38,alpha^31,alpha^60,alpha^22,alpha^46,alpha^32,alpha^34,alpha^28,alpha^8,alpha^38,alpha^35,alpha^38,alpha^58,alpha^24,alpha^56,alpha^23,alpha^32,alpha^29,alpha^45,alpha^48,alpha^4,alpha^38,alpha^50,alpha^33,alpha^52,alpha^4,alpha^61,alpha^7,alpha^56,alpha^26,alpha^18,alpha^37,alpha^7,alpha^60,alpha^12,alpha^32,alpha^40,alpha^15,alpha^10,alpha^9,alpha^32,alpha^9,alpha^53,alpha^52,alpha^14,alpha^5,0,alpha^23,alpha^35,alpha^58,alpha^17,alpha^8];\n",
    "M=construit_matrice(MessageChiffre)\n",
    "M\n",
    "\n",
    "def berlekamp_welch(y):\n",
    "    #=M.right.kernel()\n",
    "    \n",
    "    M=construit_matrice(y)\n",
    "    \n",
    "    noyau = M.right.kernel()\n",
    "    #noyau=nullspace(M)\n",
    "    \n",
    "    Polynome_localisateur=noyau[0:n]\n",
    "    Polynome_N=noyau[n+2:]\n",
    "    somme=0\n",
    "    for i in range(0,n):\n",
    "        somme=somme+Polynome_localisateur[i]*X**i #variable X=commande\"\n",
    "    somme_N=0\n",
    "    for i in range(0,len(Polynome_N)):\n",
    "        somme_N=somme_N+Polynome_N[i]*X**i\n",
    "\n",
    "    quotient,reste=div(Polynome_localisateur,Polynome_N)\n",
    "\n",
    "    if reste==0:\n",
    "        f=div(quotient,Polynome_localisateur)[0]\n",
    "\n",
    "        return f\n",
    "\n",
    "    else :\n",
    "        print(\"Erreur\")\n",
    "\n",
    "        \n",
    "berlekamp_welch(MessageChiffre)"
   ]
  },
  {
   "cell_type": "code",
   "execution_count": null,
   "metadata": {},
   "outputs": [],
   "source": [
    "import math\n",
    "from sage.all import *\n",
    "\n",
    "\n",
    "\n",
    "# Exemple de définition de Liste_alpha (à vérifier si elle est définie ailleurs dans votre code)\n",
    "Liste_alpha = [alpha^i for i in range(n)]\n",
    "\n",
    "def construit_matrice(y):\n",
    "    t = int((n - k) // 2)\n",
    "    Ligne = [[] for i in range(n)]\n",
    "    for i in range(n):\n",
    "        # Partie de y * alpha^j\n",
    "        for j in range(t):\n",
    "            Ligne[i].append(y[i] * (Liste_alpha[i] ** j))\n",
    "        # Partie de -alpha^j\n",
    "        for j in range(k + t - 1):\n",
    "            Ligne[i].append(-(Liste_alpha[i] ** j))\n",
    "       \n",
    "        Ligne[i] = vector(F, Ligne[i])\n",
    "   \n",
    "    M = Matrix(F, Ligne)\n",
    "    return M"
   ]
  },
  {
   "cell_type": "markdown",
   "metadata": {},
   "source": [
    "Ça ne me trouve pas de noyau droit et j'ai l'impression aussi que j'ai des doublons."
   ]
  },
  {
   "cell_type": "code",
   "execution_count": null,
   "metadata": {},
   "outputs": [],
   "source": [
    "def berlekamp_welch(y):\n",
    "    M = construit_matrice(y)\n",
    "   \n",
    "    # Obtenir la matrice du noyau droit\n",
    "    noyau_matrix = M.right_kernel_matrix()\n",
    "   \n",
    "    if noyau_matrix.nrows() == 0:\n",
    "        print(\"Pas de noyau droit non trivial trouvé\")\n",
    "        return None\n",
    "   \n",
    "    # Utiliser la première ligne du noyau droit pour construire les polynômes\n",
    "    noyau = noyau_matrix[0]\n",
    "    Polynome_localisateur = noyau[0:n]\n",
    "    Polynome_N = noyau[n+2:]\n",
    "   \n",
    "    somme = sum(Polynome_localisateur[i] * X**i for i in range(n))\n",
    "    somme_N = sum(Polynome_N[i] * X**i for i in range(len(Polynome_N)))\n",
    "   \n",
    "    quotient, reste = somme.quo_rem(somme_N)\n",
    "\n",
    "    if reste == 0:\n",
    "        f = quotient.quo_rem(Polynome_localisateur)[0]\n",
    "        return f\n",
    "    else:\n",
    "        print(\"Erreur : le reste n'est pas nul\")\n",
    "        return None\n",
    "    \n",
    "    \n",
    "berlekamp_welch(MessageChiffre)"
   ]
  },
  {
   "cell_type": "code",
   "execution_count": null,
   "metadata": {},
   "outputs": [],
   "source": []
  },
  {
   "cell_type": "code",
   "execution_count": null,
   "metadata": {},
   "outputs": [],
   "source": [
    "import random\n",
    "def alpha_prime_j(M):\n",
    "        L=[]\n",
    "        lambda_2=liste_lambda_2(M)[15]\n",
    "        for i in range(len(mu_i_j(M))):#if (y-lambda_2)!=0:\n",
    "                alpha_prime=lambda_2/(lambda_2-mu_i_j(M)[i])\n",
    "                L.append(alpha_prime)\n",
    "        return L\n",
    "print(len(alpha_prime_j(H)))"
   ]
  },
  {
   "cell_type": "code",
   "execution_count": null,
   "metadata": {},
   "outputs": [],
   "source": [
    "import random\n",
    "def alpha_prime_j(M):\n",
    "        L=[]\n",
    "        lambda_2=liste_lambda_2(M)[15]\n",
    "        for i in range(len(mu_i_j(M))):#if (y-lambda_2)!=0:\n",
    "                alpha_prime=lambda_2/(lambda_2-mu_i_j(M)[i])\n",
    "                L.append(alpha_prime)\n",
    "        return L\n",
    "Alpha=alpha_prime_j(b)"
   ]
  }
 ],
 "metadata": {
  "kernelspec": {
   "display_name": "SageMath 10.5",
   "language": "sage",
   "name": "SageMath-10.5"
  },
  "language_info": {
   "name": "sage"
  }
 },
 "nbformat": 4,
 "nbformat_minor": 2
}
