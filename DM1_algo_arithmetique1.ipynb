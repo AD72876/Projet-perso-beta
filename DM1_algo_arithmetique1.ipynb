{
 "cells": [
  {
   "cell_type": "markdown",
   "metadata": {},
   "source": [
    "exo 1"
   ]
  },
  {
   "cell_type": "code",
   "execution_count": null,
   "metadata": {},
   "outputs": [],
   "source": [
    "def addition_scolaire(a, b):\n",
    "    max_len = max(len(a), len(b))\n",
    "    a = [0] * (max_len - len(a)) + a\n",
    "    b = [0] * (max_len - len(b)) + b\n",
    "    \n",
    "    result = []\n",
    "    retenue = 0\n",
    "\n",
    "    for i in range(max_len - 1, -1, -1):\n",
    "        somme_bit = a[i] + b[i] + retenue\n",
    "        result.insert(0, somme_bit % 2)\n",
    "        retenue = somme_bit // 2\n",
    "\n",
    "    if retenue:\n",
    "        result.insert(0, retenue)\n",
    "    \n",
    "    return result"
   ]
  },
  {
   "cell_type": "code",
   "execution_count": null,
   "metadata": {},
   "outputs": [
    {
     "data": {
      "text/plain": [
       "[1, 1, 1, 0, 1, 1]"
      ]
     },
     "metadata": {},
     "output_type": "display_data"
    }
   ],
   "source": [
    "a = [1,0,1,0,1,0]  # 11 en binaire\n",
    "b = [1,0,0,0,1]  # 6 en binaire\n",
    "addition_scolaire(a, b)"
   ]
  },
  {
   "cell_type": "code",
   "execution_count": null,
   "metadata": {},
   "outputs": [],
   "source": [
    "def soustraction_scolaire(a, b):\n",
    "    max_len = max(len(a), len(b))\n",
    "    a = [0] * (max_len - len(a)) + a\n",
    "    b = [0] * (max_len - len(b)) + b\n",
    "    \n",
    "    result = []\n",
    "    emprunt = 0\n",
    "\n",
    "    for i in range(max_len - 1, -1, -1):\n",
    "        diff_bit = a[i] - b[i] - emprunt\n",
    "        if diff_bit < 0:\n",
    "            diff_bit += 2\n",
    "            emprunt = 1\n",
    "        else:\n",
    "            emprunt = 0\n",
    "        result.insert(0, diff_bit)\n",
    "    \n",
    "    # Supprimez les zéros non significatifs à gauche du résultat\n",
    "    while len(result) > 1 and result[0] == 0:\n",
    "        result.pop(0)\n",
    "    \n",
    "    return result\n"
   ]
  },
  {
   "cell_type": "code",
   "execution_count": null,
   "metadata": {},
   "outputs": [
    {
     "data": {
      "text/plain": [
       "[1, 1, 0, 0, 1]"
      ]
     },
     "metadata": {},
     "output_type": "display_data"
    }
   ],
   "source": [
    "soustraction_scolaire([1,0,1,0,1,0],[1,0,0,0,1])"
   ]
  },
  {
   "cell_type": "code",
   "execution_count": null,
   "metadata": {},
   "outputs": [],
   "source": [
    "def division_scolaire(a, b):\n",
    "    # Assurez-vous que les deux listes ont la même longueur\n",
    "    max_len = len(a)\n",
    "    b_len = len(b)\n",
    "    \n",
    "    quotient = []\n",
    "    reste = a[:]\n",
    "\n",
    "    while len(reste) >= b_len:\n",
    "        # On décale le diviseur (b) à gauche pour qu'il ait la même longueur que le reste\n",
    "        diviseur_decale = [0] * (len(reste) - b_len) + b\n",
    "\n",
    "        # On calcule le quotient entre le diviseur décalé et le reste\n",
    "        q = 0\n",
    "        while reste >= diviseur_decale:\n",
    "            reste = soustraction_scolaire(reste, diviseur_decale)\n",
    "            q += 1\n",
    "\n",
    "        # On ajoute le quotient partiel au quotient final\n",
    "        quotient.append(q)\n",
    "\n",
    "    return quotient"
   ]
  },
  {
   "cell_type": "code",
   "execution_count": null,
   "metadata": {},
   "outputs": [
    {
     "data": {
      "text/plain": [
       "[10]"
      ]
     },
     "metadata": {},
     "output_type": "display_data"
    }
   ],
   "source": [
    "division_scolaire([1,0,1,0,1,0],[1,0,0,0,1])"
   ]
  },
  {
   "cell_type": "markdown",
   "metadata": {},
   "source": [
    "Exo 2 "
   ]
  },
  {
   "cell_type": "code",
   "execution_count": null,
   "metadata": {},
   "outputs": [],
   "source": [
    "def plus_grande_puissance_2(a, b):\n",
    "    k = 0\n",
    "    while (2 ** k) * b <= a:\n",
    "        k += 1\n",
    "    # Décrémentez k car il doit satisfaire la condition 2^k * b <= a\n",
    "    return k - 1\n"
   ]
  },
  {
   "cell_type": "code",
   "execution_count": null,
   "metadata": {},
   "outputs": [
    {
     "data": {
      "text/plain": [
       "5"
      ]
     },
     "metadata": {},
     "output_type": "display_data"
    }
   ],
   "source": [
    "plus_grande_puissance_2(32,1)"
   ]
  },
  {
   "cell_type": "code",
   "execution_count": null,
   "metadata": {},
   "outputs": [
    {
     "data": {
      "text/plain": [
       "4"
      ]
     },
     "metadata": {},
     "output_type": "display_data"
    }
   ],
   "source": [
    "plus_grande_puissance_2(32,2)"
   ]
  },
  {
   "cell_type": "code",
   "execution_count": null,
   "metadata": {},
   "outputs": [],
   "source": [
    "def division_binaire(a, b):\n",
    "    if b == 0:\n",
    "        raise ValueError(\"Division by zero is not allowed.\")\n",
    "\n",
    "    # Cas particulier lorsque a est égal à 0\n",
    "    if a == 0:\n",
    "        return 0\n",
    "\n",
    "    # Convertir a et b en représentation binaire\n",
    "    a_bin = bin(a)[2:]\n",
    "    b_bin = bin(b)[2:]\n",
    "\n",
    "    # Obtenir la longueur des représentations binaires\n",
    "    len_a = len(a_bin)\n",
    "    len_b = len(b_bin)\n",
    "\n",
    "    # Initialiser le quotient à zéro\n",
    "    quotient = 0\n",
    "    reste = 0\n",
    "\n",
    "    # Boucle sur chaque bit de la représentation binaire de a\n",
    "    for i in range(len_a):\n",
    "        reste = (reste << 1) | int(a_bin[i])\n",
    "\n",
    "        if reste >= b:\n",
    "            quotient = (quotient << 1) | 1\n",
    "            reste -= b\n",
    "        else:\n",
    "            quotient = quotient << 1\n",
    "\n",
    "    return quotient"
   ]
  },
  {
   "cell_type": "code",
   "execution_count": null,
   "metadata": {},
   "outputs": [
    {
     "name": "stdout",
     "output_type": "stream",
     "text": [
      "10\n"
     ]
    }
   ],
   "source": [
    "a = 32\n",
    "b = 3\n",
    "result = division_binaire(a, b)\n",
    "print(result)"
   ]
  },
  {
   "cell_type": "code",
   "execution_count": null,
   "metadata": {},
   "outputs": [],
   "source": [
    "def compare_binary(a, b):\n",
    "    if len(a) > len(b):\n",
    "        return 1\n",
    "    elif len(a) < len(b):\n",
    "        return 0\n",
    "    elif a >= b:\n",
    "        return 1\n",
    "    else:\n",
    "        return 0\n",
    "\n",
    "def addition(a, b):\n",
    "    max_len = max(len(a), len(b))\n",
    "    a = [0] * (max_len - len(a)) + a\n",
    "    b = [0] * (max_len - len(b)) + b\n",
    "    \n",
    "    result = []\n",
    "    carry = 0\n",
    "\n",
    "    if compare_binary(a, b) < 0:\n",
    "        a, b = b, a  # Assure que a est plus grand que b\n",
    "\n",
    "    for i in range(max_len - 1, -1, -1):\n",
    "        sum_bit = a[i] + b[i] + carry\n",
    "        result.insert(0, sum_bit % 2)\n",
    "        carry = sum_bit // 2\n",
    "\n",
    "    if carry:\n",
    "        result.insert(0, carry)\n",
    "    \n",
    "    return result\n",
    "\n",
    "def soustraction(a, b):\n",
    "    max_len = max(len(a), len(b))\n",
    "    a = [0] * (max_len - len(a)) + a\n",
    "    b = [0] * (max_len - len(b)) + b\n",
    "    \n",
    "    result = []\n",
    "    borrow = 0\n",
    "\n",
    "    if compare_binary(a, b) < 0:\n",
    "        a, b = b, a  # Assure que a est plus grand que b\n",
    "\n",
    "    for i in range(max_len - 1, -1, -1):\n",
    "        diff_bit = a[i] - b[i] - borrow\n",
    "        if diff_bit < 0:\n",
    "            diff_bit += 2\n",
    "            borrow = 1\n",
    "        else:\n",
    "            borrow = 0\n",
    "        result.insert(0, diff_bit)\n",
    "    \n",
    "    while len(result) > 1 and result[0] == 0:\n",
    "        result.pop(0)\n",
    "    \n",
    "    return result\n",
    "\n",
    "def division_scolaire(a, b):\n",
    "    max_len = len(a)\n",
    "    b_len = len(b)\n",
    "    \n",
    "    quotient = []\n",
    "    reste = a[:]\n",
    "    \n",
    "    if compare_binary(reste, b) < 0:\n",
    "        return [0]  # Si a < b, le quotient est zéro\n",
    "\n",
    "    while compare_binary(reste, b) >= 0:\n",
    "        q = [0] * (max_len - b_len + 1)\n",
    "        sub_b = b[:]\n",
    "        \n",
    "        if compare_binary(reste, sub_b) >= 0:\n",
    "            q[-1] += 1\n",
    "            reste = soustraction(reste, sub_b)\n",
    "        \n",
    "        quotient = addition(quotient, q)\n",
    "    \n",
    "    return quotient\n"
   ]
  },
  {
   "cell_type": "code",
   "execution_count": null,
   "metadata": {},
   "outputs": [],
   "source": []
  },
  {
   "cell_type": "code",
   "execution_count": null,
   "metadata": {},
   "outputs": [],
   "source": []
  }
 ],
 "metadata": {
  "kernelspec": {
   "display_name": "SageMath 10.5",
   "language": "sage",
   "name": "SageMath-10.5"
  },
  "language_info": {
   "name": "sage"
  }
 },
 "nbformat": 4,
 "nbformat_minor": 2
}
